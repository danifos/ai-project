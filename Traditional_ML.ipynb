{
 "cells": [
  {
   "cell_type": "markdown",
   "metadata": {},
   "source": [
    "# Traditional non-DL method\n",
    "1. Random Forest"
   ]
  },
  {
   "cell_type": "code",
   "execution_count": 1,
   "metadata": {},
   "outputs": [],
   "source": [
    "import pandas as pd\n",
    "import numpy as np\n",
    "import matplotlib.pyplot as plt\n",
    "from sklearn.ensemble import RandomForestRegressor\n",
    "from sklearn.tree import DecisionTreeRegressor\n",
    "from sklearn.ensemble import AdaBoostRegressor\n",
    "import xgboost as xgb"
   ]
  },
  {
   "cell_type": "markdown",
   "metadata": {},
   "source": [
    "## Load and mormalize DataSet"
   ]
  },
  {
   "cell_type": "code",
   "execution_count": 2,
   "metadata": {},
   "outputs": [],
   "source": [
    "train = pd.read_csv('data/Train.csv')\n",
    "test = pd.read_csv('data/Test.csv')\n",
    "feature_name = train.columns.values[:-1].tolist()\n",
    "train_feature_raw = train[feature_name]\n",
    "train_label = train['label']\n",
    "test_feature_raw = test[feature_name]\n",
    "test_label = test['label']\n",
    "#normalize\n",
    "train_feature = ((train_feature_raw - train_feature_raw.mean()) / train_feature_raw.std()).values\n",
    "test_feature = ((test_feature_raw - train_feature_raw.mean()) / train_feature_raw.std()).values\n",
    "train_label = train_label.values\n",
    "test_label = test_label.values"
   ]
  },
  {
   "cell_type": "markdown",
   "metadata": {},
   "source": [
    "## Random Forest"
   ]
  },
  {
   "cell_type": "code",
   "execution_count": 3,
   "metadata": {},
   "outputs": [
    {
     "data": {
      "text/plain": [
       "0.783091017694738"
      ]
     },
     "execution_count": 3,
     "metadata": {},
     "output_type": "execute_result"
    }
   ],
   "source": [
    "rf_raw = RandomForestRegressor(10, max_depth=7, n_jobs= -1, random_state = 7)\n",
    "rf_raw.fit(train_feature, train_label)\n",
    "rf_pred=rf_raw.predict(test_feature)\n",
    "((test_label-rf_pred)**2).mean()"
   ]
  },
  {
   "cell_type": "markdown",
   "metadata": {},
   "source": [
    "## Adaboost"
   ]
  },
  {
   "cell_type": "code",
   "execution_count": null,
   "metadata": {},
   "outputs": [],
   "source": [
    "ada_raw = AdaBoostRegressor(DecisionTreeRegressor(max_depth=4),n_estimators=100,loss = 'square', random_state = 7)\n",
    "ada_raw.fit(train_feature, train_label)\n",
    "ada_pred=ada_raw.predict(test_feature)\n",
    "((test_label-ada_pred)**2).mean()"
   ]
  },
  {
   "cell_type": "markdown",
   "metadata": {},
   "source": [
    "## Xgboost"
   ]
  },
  {
   "cell_type": "code",
   "execution_count": 13,
   "metadata": {},
   "outputs": [],
   "source": [
    "xgb_train = xgb.DMatrix(train_feature, label=train_label)\n",
    "xgb_test = xgb.DMatrix(test_feature, label=test_label)"
   ]
  },
  {
   "cell_type": "code",
   "execution_count": 4,
   "metadata": {},
   "outputs": [],
   "source": [
    "param_gbtree = {\n",
    "    # General Parameters:\n",
    "    'booster':'gbtree',\n",
    "    # For GBtree\n",
    "    'eta':0.01,\n",
    "    'gamma': 0,\n",
    "    'max_depth': 5,\n",
    "    'min_child_weight': 1,\n",
    "    'subsample': 0.9,\n",
    "    'lambda': 0.5,\n",
    "    'alpha': 0,\n",
    "    'tree_method': 'auto', \n",
    "    'num_parallel_tree': 1, # For Random Forest\n",
    "    # Learning Task\n",
    "#     'objective': 'reg:squarederror',\n",
    "    'eval_metric': ['rmse']\n",
    "}\n",
    "#evallist = [(xgb_train, 'train'),(xgb_test, 'test')]"
   ]
  },
  {
   "cell_type": "code",
   "execution_count": 28,
   "metadata": {},
   "outputs": [
    {
     "name": "stdout",
     "output_type": "stream",
     "text": [
      "[0]\ttrain-rmse:1.03676\ttest-rmse:1.04051\n",
      "Multiple eval metrics have been passed: 'test-rmse' will be used for early stopping.\n",
      "\n",
      "Will train until test-rmse hasn't improved in 10 rounds.\n",
      "[1]\ttrain-rmse:1.03396\ttest-rmse:1.03955\n",
      "[2]\ttrain-rmse:1.03112\ttest-rmse:1.0389\n",
      "[3]\ttrain-rmse:1.02822\ttest-rmse:1.03814\n",
      "[4]\ttrain-rmse:1.02599\ttest-rmse:1.03739\n",
      "[5]\ttrain-rmse:1.02342\ttest-rmse:1.03611\n",
      "[6]\ttrain-rmse:1.02118\ttest-rmse:1.03551\n",
      "[7]\ttrain-rmse:1.01896\ttest-rmse:1.03325\n",
      "[8]\ttrain-rmse:1.01634\ttest-rmse:1.03097\n",
      "[9]\ttrain-rmse:1.01402\ttest-rmse:1.03036\n",
      "[10]\ttrain-rmse:1.01198\ttest-rmse:1.02958\n",
      "[11]\ttrain-rmse:1.00955\ttest-rmse:1.02922\n",
      "[12]\ttrain-rmse:1.00761\ttest-rmse:1.02839\n",
      "[13]\ttrain-rmse:1.00535\ttest-rmse:1.02631\n",
      "[14]\ttrain-rmse:1.00318\ttest-rmse:1.02587\n",
      "[15]\ttrain-rmse:1.00143\ttest-rmse:1.02591\n",
      "[16]\ttrain-rmse:0.999423\ttest-rmse:1.02503\n",
      "[17]\ttrain-rmse:0.997354\ttest-rmse:1.02335\n",
      "[18]\ttrain-rmse:0.995364\ttest-rmse:1.02271\n",
      "[19]\ttrain-rmse:0.993612\ttest-rmse:1.02075\n",
      "[20]\ttrain-rmse:0.991353\ttest-rmse:1.02021\n",
      "[21]\ttrain-rmse:0.989549\ttest-rmse:1.02003\n",
      "[22]\ttrain-rmse:0.98772\ttest-rmse:1.0199\n",
      "[23]\ttrain-rmse:0.986087\ttest-rmse:1.01962\n",
      "[24]\ttrain-rmse:0.984535\ttest-rmse:1.01929\n",
      "[25]\ttrain-rmse:0.98287\ttest-rmse:1.01879\n",
      "[26]\ttrain-rmse:0.981364\ttest-rmse:1.01727\n",
      "[27]\ttrain-rmse:0.979624\ttest-rmse:1.01534\n",
      "[28]\ttrain-rmse:0.977791\ttest-rmse:1.01556\n",
      "[29]\ttrain-rmse:0.976186\ttest-rmse:1.01696\n",
      "[30]\ttrain-rmse:0.974694\ttest-rmse:1.0151\n",
      "[31]\ttrain-rmse:0.973018\ttest-rmse:1.01372\n",
      "[32]\ttrain-rmse:0.971488\ttest-rmse:1.0134\n",
      "[33]\ttrain-rmse:0.970241\ttest-rmse:1.01198\n",
      "[34]\ttrain-rmse:0.96888\ttest-rmse:1.01013\n",
      "[35]\ttrain-rmse:0.967244\ttest-rmse:1.00872\n",
      "[36]\ttrain-rmse:0.965644\ttest-rmse:1.00831\n",
      "[37]\ttrain-rmse:0.964521\ttest-rmse:1.00819\n",
      "[38]\ttrain-rmse:0.963118\ttest-rmse:1.00694\n",
      "[39]\ttrain-rmse:0.961861\ttest-rmse:1.00821\n",
      "[40]\ttrain-rmse:0.960849\ttest-rmse:1.00697\n",
      "[41]\ttrain-rmse:0.959301\ttest-rmse:1.00544\n",
      "[42]\ttrain-rmse:0.957996\ttest-rmse:1.00692\n",
      "[43]\ttrain-rmse:0.956679\ttest-rmse:1.0069\n",
      "[44]\ttrain-rmse:0.955755\ttest-rmse:1.00553\n",
      "[45]\ttrain-rmse:0.954508\ttest-rmse:1.00482\n",
      "[46]\ttrain-rmse:0.95334\ttest-rmse:1.00405\n",
      "[47]\ttrain-rmse:0.952225\ttest-rmse:1.0052\n",
      "[48]\ttrain-rmse:0.951143\ttest-rmse:1.00461\n",
      "[49]\ttrain-rmse:0.949687\ttest-rmse:1.00453\n",
      "[50]\ttrain-rmse:0.948665\ttest-rmse:1.00573\n",
      "[51]\ttrain-rmse:0.947643\ttest-rmse:1.00576\n",
      "[52]\ttrain-rmse:0.946592\ttest-rmse:1.00526\n",
      "[53]\ttrain-rmse:0.945724\ttest-rmse:1.00532\n",
      "[54]\ttrain-rmse:0.944694\ttest-rmse:1.0043\n",
      "[55]\ttrain-rmse:0.943872\ttest-rmse:1.0044\n",
      "[56]\ttrain-rmse:0.942993\ttest-rmse:1.00326\n",
      "[57]\ttrain-rmse:0.941957\ttest-rmse:1.00237\n",
      "[58]\ttrain-rmse:0.941047\ttest-rmse:1.00198\n",
      "[59]\ttrain-rmse:0.939794\ttest-rmse:1.00081\n",
      "[60]\ttrain-rmse:0.938955\ttest-rmse:1.00102\n",
      "[61]\ttrain-rmse:0.938064\ttest-rmse:1.00114\n",
      "[62]\ttrain-rmse:0.937342\ttest-rmse:1.00071\n",
      "[63]\ttrain-rmse:0.936551\ttest-rmse:0.999885\n",
      "[64]\ttrain-rmse:0.93576\ttest-rmse:0.998501\n",
      "[65]\ttrain-rmse:0.935009\ttest-rmse:1.0032\n",
      "[66]\ttrain-rmse:0.934287\ttest-rmse:1.00255\n",
      "[67]\ttrain-rmse:0.933534\ttest-rmse:1.00184\n",
      "[68]\ttrain-rmse:0.932844\ttest-rmse:1.0012\n",
      "[69]\ttrain-rmse:0.931913\ttest-rmse:1.0001\n",
      "[70]\ttrain-rmse:0.930961\ttest-rmse:0.998944\n",
      "[71]\ttrain-rmse:0.930318\ttest-rmse:0.999031\n",
      "[72]\ttrain-rmse:0.929596\ttest-rmse:0.998061\n",
      "[73]\ttrain-rmse:0.928865\ttest-rmse:0.997107\n",
      "[74]\ttrain-rmse:0.928227\ttest-rmse:0.995882\n",
      "[75]\ttrain-rmse:0.92759\ttest-rmse:0.994833\n",
      "[76]\ttrain-rmse:0.926939\ttest-rmse:0.994654\n",
      "[77]\ttrain-rmse:0.926178\ttest-rmse:0.996111\n",
      "[78]\ttrain-rmse:0.925566\ttest-rmse:0.99543\n",
      "[79]\ttrain-rmse:0.925044\ttest-rmse:0.994609\n",
      "[80]\ttrain-rmse:0.92442\ttest-rmse:0.993775\n",
      "[81]\ttrain-rmse:0.923888\ttest-rmse:0.993056\n",
      "[82]\ttrain-rmse:0.923342\ttest-rmse:0.992127\n",
      "[83]\ttrain-rmse:0.922789\ttest-rmse:0.991733\n",
      "[84]\ttrain-rmse:0.922139\ttest-rmse:0.99072\n",
      "[85]\ttrain-rmse:0.921487\ttest-rmse:0.990227\n",
      "[86]\ttrain-rmse:0.920982\ttest-rmse:0.989453\n",
      "[87]\ttrain-rmse:0.92044\ttest-rmse:0.98893\n",
      "[88]\ttrain-rmse:0.919875\ttest-rmse:0.988395\n",
      "[89]\ttrain-rmse:0.919369\ttest-rmse:0.988668\n",
      "[90]\ttrain-rmse:0.918873\ttest-rmse:0.987668\n",
      "[91]\ttrain-rmse:0.918334\ttest-rmse:0.987403\n",
      "[92]\ttrain-rmse:0.917864\ttest-rmse:0.98648\n",
      "[93]\ttrain-rmse:0.917283\ttest-rmse:0.9857\n",
      "[94]\ttrain-rmse:0.916815\ttest-rmse:0.985132\n",
      "[95]\ttrain-rmse:0.916447\ttest-rmse:0.984829\n",
      "[96]\ttrain-rmse:0.916018\ttest-rmse:0.984307\n",
      "[97]\ttrain-rmse:0.915529\ttest-rmse:0.983457\n",
      "[98]\ttrain-rmse:0.915125\ttest-rmse:0.982597\n",
      "[99]\ttrain-rmse:0.914722\ttest-rmse:0.982259\n",
      "[100]\ttrain-rmse:0.914356\ttest-rmse:0.981346\n",
      "[101]\ttrain-rmse:0.913971\ttest-rmse:0.980746\n",
      "[102]\ttrain-rmse:0.913567\ttest-rmse:0.981073\n",
      "[103]\ttrain-rmse:0.913187\ttest-rmse:0.980403\n",
      "[104]\ttrain-rmse:0.912713\ttest-rmse:0.979558\n",
      "[105]\ttrain-rmse:0.912361\ttest-rmse:0.978905\n",
      "[106]\ttrain-rmse:0.912033\ttest-rmse:0.978321\n",
      "[107]\ttrain-rmse:0.911548\ttest-rmse:0.977934\n",
      "[108]\ttrain-rmse:0.911209\ttest-rmse:0.977378\n",
      "[109]\ttrain-rmse:0.910799\ttest-rmse:0.976911\n",
      "[110]\ttrain-rmse:0.910527\ttest-rmse:0.976042\n",
      "[111]\ttrain-rmse:0.910201\ttest-rmse:0.975316\n",
      "[112]\ttrain-rmse:0.909932\ttest-rmse:0.97552\n",
      "[113]\ttrain-rmse:0.909596\ttest-rmse:0.974692\n",
      "[114]\ttrain-rmse:0.909288\ttest-rmse:0.974286\n",
      "[115]\ttrain-rmse:0.908942\ttest-rmse:0.973401\n",
      "[116]\ttrain-rmse:0.908676\ttest-rmse:0.973033\n",
      "[117]\ttrain-rmse:0.908362\ttest-rmse:0.972456\n",
      "[118]\ttrain-rmse:0.908066\ttest-rmse:0.972862\n",
      "[119]\ttrain-rmse:0.907815\ttest-rmse:0.972221\n",
      "[120]\ttrain-rmse:0.907553\ttest-rmse:0.971839\n",
      "[121]\ttrain-rmse:0.907288\ttest-rmse:0.971251\n",
      "[122]\ttrain-rmse:0.907002\ttest-rmse:0.971206\n",
      "[123]\ttrain-rmse:0.906739\ttest-rmse:0.970785\n",
      "[124]\ttrain-rmse:0.906458\ttest-rmse:0.970179\n",
      "[125]\ttrain-rmse:0.906211\ttest-rmse:0.969694\n",
      "[126]\ttrain-rmse:0.905989\ttest-rmse:0.969119\n",
      "[127]\ttrain-rmse:0.90568\ttest-rmse:0.968945\n",
      "[128]\ttrain-rmse:0.905484\ttest-rmse:0.968261\n",
      "[129]\ttrain-rmse:0.905268\ttest-rmse:0.967666\n",
      "[130]\ttrain-rmse:0.905048\ttest-rmse:0.967131\n",
      "[131]\ttrain-rmse:0.904819\ttest-rmse:0.966836\n",
      "[132]\ttrain-rmse:0.904576\ttest-rmse:0.96629\n",
      "[133]\ttrain-rmse:0.904362\ttest-rmse:0.965766\n",
      "[134]\ttrain-rmse:0.904018\ttest-rmse:0.965304\n",
      "[135]\ttrain-rmse:0.903813\ttest-rmse:0.964756\n",
      "[136]\ttrain-rmse:0.903573\ttest-rmse:0.964349\n",
      "[137]\ttrain-rmse:0.903364\ttest-rmse:0.963894\n",
      "[138]\ttrain-rmse:0.903173\ttest-rmse:0.963526\n",
      "[139]\ttrain-rmse:0.902991\ttest-rmse:0.962837\n",
      "[140]\ttrain-rmse:0.902852\ttest-rmse:0.962401\n",
      "[141]\ttrain-rmse:0.902681\ttest-rmse:0.962034\n",
      "[142]\ttrain-rmse:0.902476\ttest-rmse:0.962565\n",
      "[143]\ttrain-rmse:0.902256\ttest-rmse:0.963326\n",
      "[144]\ttrain-rmse:0.902086\ttest-rmse:0.9635\n",
      "[145]\ttrain-rmse:0.901922\ttest-rmse:0.963065\n",
      "[146]\ttrain-rmse:0.90172\ttest-rmse:0.963261\n",
      "[147]\ttrain-rmse:0.90159\ttest-rmse:0.962718\n",
      "[148]\ttrain-rmse:0.901399\ttest-rmse:0.962432\n",
      "[149]\ttrain-rmse:0.901217\ttest-rmse:0.962502\n",
      "[150]\ttrain-rmse:0.901067\ttest-rmse:0.962794\n",
      "[151]\ttrain-rmse:0.900872\ttest-rmse:0.962985\n",
      "Stopping. Best iteration:\n",
      "[141]\ttrain-rmse:0.902681\ttest-rmse:0.962034\n",
      "\n"
     ]
    }
   ],
   "source": [
    "num_round = 500\n",
    "bst_gbtree_raw = xgb.train(param_gbtree, xgb_train, num_round, evallist, early_stopping_rounds=10)"
   ]
  },
  {
   "cell_type": "code",
   "execution_count": 29,
   "metadata": {},
   "outputs": [
    {
     "data": {
      "text/plain": [
       "0.927202910179172"
      ]
     },
     "execution_count": 29,
     "metadata": {},
     "output_type": "execute_result"
    }
   ],
   "source": [
    "xgb_pred = bst_gbtree_raw.predict(xgb_test)\n",
    "((test_label- xgb_pred)**2).mean()"
   ]
  },
  {
   "cell_type": "markdown",
   "metadata": {},
   "source": [
    "## Dimension Reducction with PCA"
   ]
  },
  {
   "cell_type": "code",
   "execution_count": 6,
   "metadata": {},
   "outputs": [
    {
     "ename": "KeyboardInterrupt",
     "evalue": "",
     "output_type": "error",
     "traceback": [
      "\u001b[1;31m---------------------------------------------------------------------------\u001b[0m",
      "\u001b[1;31mKeyboardInterrupt\u001b[0m                         Traceback (most recent call last)",
      "\u001b[1;32m<ipython-input-6-4532dad21819>\u001b[0m in \u001b[0;36m<module>\u001b[1;34m\u001b[0m\n\u001b[0;32m     22\u001b[0m \u001b[1;31m#Adaboost\u001b[0m\u001b[1;33m\u001b[0m\u001b[1;33m\u001b[0m\u001b[1;33m\u001b[0m\u001b[0m\n\u001b[0;32m     23\u001b[0m \u001b[0mada_pca99\u001b[0m \u001b[1;33m=\u001b[0m \u001b[0mAdaBoostRegressor\u001b[0m\u001b[1;33m(\u001b[0m\u001b[0mDecisionTreeRegressor\u001b[0m\u001b[1;33m(\u001b[0m\u001b[0mmax_depth\u001b[0m\u001b[1;33m=\u001b[0m\u001b[1;36m4\u001b[0m\u001b[1;33m)\u001b[0m\u001b[1;33m,\u001b[0m\u001b[0mn_estimators\u001b[0m\u001b[1;33m=\u001b[0m\u001b[1;36m20\u001b[0m\u001b[1;33m,\u001b[0m\u001b[0mloss\u001b[0m \u001b[1;33m=\u001b[0m \u001b[1;34m'square'\u001b[0m\u001b[1;33m,\u001b[0m \u001b[0mrandom_state\u001b[0m \u001b[1;33m=\u001b[0m \u001b[1;36m7\u001b[0m\u001b[1;33m)\u001b[0m\u001b[1;33m\u001b[0m\u001b[1;33m\u001b[0m\u001b[0m\n\u001b[1;32m---> 24\u001b[1;33m \u001b[0mada_pca99\u001b[0m\u001b[1;33m.\u001b[0m\u001b[0mfit\u001b[0m\u001b[1;33m(\u001b[0m\u001b[0mtrain_feature_pca99\u001b[0m\u001b[1;33m,\u001b[0m \u001b[0mtrain_label\u001b[0m\u001b[1;33m)\u001b[0m\u001b[1;33m\u001b[0m\u001b[1;33m\u001b[0m\u001b[0m\n\u001b[0m\u001b[0;32m     25\u001b[0m \u001b[0mada_pca99_pred\u001b[0m\u001b[1;33m=\u001b[0m\u001b[0mada_pca99\u001b[0m\u001b[1;33m.\u001b[0m\u001b[0mpredict\u001b[0m\u001b[1;33m(\u001b[0m\u001b[0mtest_feature_pca99\u001b[0m\u001b[1;33m)\u001b[0m\u001b[1;33m\u001b[0m\u001b[1;33m\u001b[0m\u001b[0m\n\u001b[0;32m     26\u001b[0m \u001b[0mprint\u001b[0m\u001b[1;33m(\u001b[0m\u001b[1;34m\"ADA_PCA99: %f\"\u001b[0m \u001b[1;33m%\u001b[0m \u001b[1;33m(\u001b[0m\u001b[1;33m(\u001b[0m\u001b[0mtest_label\u001b[0m\u001b[1;33m-\u001b[0m\u001b[0mada_pca99_pred\u001b[0m\u001b[1;33m)\u001b[0m\u001b[1;33m**\u001b[0m\u001b[1;36m2\u001b[0m\u001b[1;33m)\u001b[0m\u001b[1;33m.\u001b[0m\u001b[0mmean\u001b[0m\u001b[1;33m(\u001b[0m\u001b[1;33m)\u001b[0m\u001b[1;33m)\u001b[0m\u001b[1;33m\u001b[0m\u001b[1;33m\u001b[0m\u001b[0m\n",
      "\u001b[1;32mD:\\Anaconda3\\envs\\tensorflow\\lib\\site-packages\\sklearn\\ensemble\\weight_boosting.py\u001b[0m in \u001b[0;36mfit\u001b[1;34m(self, X, y, sample_weight)\u001b[0m\n\u001b[0;32m    994\u001b[0m \u001b[1;33m\u001b[0m\u001b[0m\n\u001b[0;32m    995\u001b[0m         \u001b[1;31m# Fit\u001b[0m\u001b[1;33m\u001b[0m\u001b[1;33m\u001b[0m\u001b[1;33m\u001b[0m\u001b[0m\n\u001b[1;32m--> 996\u001b[1;33m         \u001b[1;32mreturn\u001b[0m \u001b[0msuper\u001b[0m\u001b[1;33m(\u001b[0m\u001b[1;33m)\u001b[0m\u001b[1;33m.\u001b[0m\u001b[0mfit\u001b[0m\u001b[1;33m(\u001b[0m\u001b[0mX\u001b[0m\u001b[1;33m,\u001b[0m \u001b[0my\u001b[0m\u001b[1;33m,\u001b[0m \u001b[0msample_weight\u001b[0m\u001b[1;33m)\u001b[0m\u001b[1;33m\u001b[0m\u001b[1;33m\u001b[0m\u001b[0m\n\u001b[0m\u001b[0;32m    997\u001b[0m \u001b[1;33m\u001b[0m\u001b[0m\n\u001b[0;32m    998\u001b[0m     \u001b[1;32mdef\u001b[0m \u001b[0m_validate_estimator\u001b[0m\u001b[1;33m(\u001b[0m\u001b[0mself\u001b[0m\u001b[1;33m)\u001b[0m\u001b[1;33m:\u001b[0m\u001b[1;33m\u001b[0m\u001b[1;33m\u001b[0m\u001b[0m\n",
      "\u001b[1;32mD:\\Anaconda3\\envs\\tensorflow\\lib\\site-packages\\sklearn\\ensemble\\weight_boosting.py\u001b[0m in \u001b[0;36mfit\u001b[1;34m(self, X, y, sample_weight)\u001b[0m\n\u001b[0;32m    148\u001b[0m                 \u001b[0mX\u001b[0m\u001b[1;33m,\u001b[0m \u001b[0my\u001b[0m\u001b[1;33m,\u001b[0m\u001b[1;33m\u001b[0m\u001b[1;33m\u001b[0m\u001b[0m\n\u001b[0;32m    149\u001b[0m                 \u001b[0msample_weight\u001b[0m\u001b[1;33m,\u001b[0m\u001b[1;33m\u001b[0m\u001b[1;33m\u001b[0m\u001b[0m\n\u001b[1;32m--> 150\u001b[1;33m                 random_state)\n\u001b[0m\u001b[0;32m    151\u001b[0m \u001b[1;33m\u001b[0m\u001b[0m\n\u001b[0;32m    152\u001b[0m             \u001b[1;31m# Early termination\u001b[0m\u001b[1;33m\u001b[0m\u001b[1;33m\u001b[0m\u001b[1;33m\u001b[0m\u001b[0m\n",
      "\u001b[1;32mD:\\Anaconda3\\envs\\tensorflow\\lib\\site-packages\\sklearn\\ensemble\\weight_boosting.py\u001b[0m in \u001b[0;36m_boost\u001b[1;34m(self, iboost, X, y, sample_weight, random_state)\u001b[0m\n\u001b[0;32m   1054\u001b[0m         \u001b[0mX_\u001b[0m \u001b[1;33m=\u001b[0m \u001b[0msafe_indexing\u001b[0m\u001b[1;33m(\u001b[0m\u001b[0mX\u001b[0m\u001b[1;33m,\u001b[0m \u001b[0mbootstrap_idx\u001b[0m\u001b[1;33m)\u001b[0m\u001b[1;33m\u001b[0m\u001b[1;33m\u001b[0m\u001b[0m\n\u001b[0;32m   1055\u001b[0m         \u001b[0my_\u001b[0m \u001b[1;33m=\u001b[0m \u001b[0msafe_indexing\u001b[0m\u001b[1;33m(\u001b[0m\u001b[0my\u001b[0m\u001b[1;33m,\u001b[0m \u001b[0mbootstrap_idx\u001b[0m\u001b[1;33m)\u001b[0m\u001b[1;33m\u001b[0m\u001b[1;33m\u001b[0m\u001b[0m\n\u001b[1;32m-> 1056\u001b[1;33m         \u001b[0mestimator\u001b[0m\u001b[1;33m.\u001b[0m\u001b[0mfit\u001b[0m\u001b[1;33m(\u001b[0m\u001b[0mX_\u001b[0m\u001b[1;33m,\u001b[0m \u001b[0my_\u001b[0m\u001b[1;33m)\u001b[0m\u001b[1;33m\u001b[0m\u001b[1;33m\u001b[0m\u001b[0m\n\u001b[0m\u001b[0;32m   1057\u001b[0m         \u001b[0my_predict\u001b[0m \u001b[1;33m=\u001b[0m \u001b[0mestimator\u001b[0m\u001b[1;33m.\u001b[0m\u001b[0mpredict\u001b[0m\u001b[1;33m(\u001b[0m\u001b[0mX\u001b[0m\u001b[1;33m)\u001b[0m\u001b[1;33m\u001b[0m\u001b[1;33m\u001b[0m\u001b[0m\n\u001b[0;32m   1058\u001b[0m \u001b[1;33m\u001b[0m\u001b[0m\n",
      "\u001b[1;32mD:\\Anaconda3\\envs\\tensorflow\\lib\\site-packages\\sklearn\\tree\\tree.py\u001b[0m in \u001b[0;36mfit\u001b[1;34m(self, X, y, sample_weight, check_input, X_idx_sorted)\u001b[0m\n\u001b[0;32m   1155\u001b[0m             \u001b[0msample_weight\u001b[0m\u001b[1;33m=\u001b[0m\u001b[0msample_weight\u001b[0m\u001b[1;33m,\u001b[0m\u001b[1;33m\u001b[0m\u001b[1;33m\u001b[0m\u001b[0m\n\u001b[0;32m   1156\u001b[0m             \u001b[0mcheck_input\u001b[0m\u001b[1;33m=\u001b[0m\u001b[0mcheck_input\u001b[0m\u001b[1;33m,\u001b[0m\u001b[1;33m\u001b[0m\u001b[1;33m\u001b[0m\u001b[0m\n\u001b[1;32m-> 1157\u001b[1;33m             X_idx_sorted=X_idx_sorted)\n\u001b[0m\u001b[0;32m   1158\u001b[0m         \u001b[1;32mreturn\u001b[0m \u001b[0mself\u001b[0m\u001b[1;33m\u001b[0m\u001b[1;33m\u001b[0m\u001b[0m\n\u001b[0;32m   1159\u001b[0m \u001b[1;33m\u001b[0m\u001b[0m\n",
      "\u001b[1;32mD:\\Anaconda3\\envs\\tensorflow\\lib\\site-packages\\sklearn\\tree\\tree.py\u001b[0m in \u001b[0;36mfit\u001b[1;34m(self, X, y, sample_weight, check_input, X_idx_sorted)\u001b[0m\n\u001b[0;32m    378\u001b[0m                                            min_impurity_split)\n\u001b[0;32m    379\u001b[0m \u001b[1;33m\u001b[0m\u001b[0m\n\u001b[1;32m--> 380\u001b[1;33m         \u001b[0mbuilder\u001b[0m\u001b[1;33m.\u001b[0m\u001b[0mbuild\u001b[0m\u001b[1;33m(\u001b[0m\u001b[0mself\u001b[0m\u001b[1;33m.\u001b[0m\u001b[0mtree_\u001b[0m\u001b[1;33m,\u001b[0m \u001b[0mX\u001b[0m\u001b[1;33m,\u001b[0m \u001b[0my\u001b[0m\u001b[1;33m,\u001b[0m \u001b[0msample_weight\u001b[0m\u001b[1;33m,\u001b[0m \u001b[0mX_idx_sorted\u001b[0m\u001b[1;33m)\u001b[0m\u001b[1;33m\u001b[0m\u001b[1;33m\u001b[0m\u001b[0m\n\u001b[0m\u001b[0;32m    381\u001b[0m \u001b[1;33m\u001b[0m\u001b[0m\n\u001b[0;32m    382\u001b[0m         \u001b[1;32mif\u001b[0m \u001b[0mself\u001b[0m\u001b[1;33m.\u001b[0m\u001b[0mn_outputs_\u001b[0m \u001b[1;33m==\u001b[0m \u001b[1;36m1\u001b[0m\u001b[1;33m:\u001b[0m\u001b[1;33m\u001b[0m\u001b[1;33m\u001b[0m\u001b[0m\n",
      "\u001b[1;31mKeyboardInterrupt\u001b[0m: "
     ]
    }
   ],
   "source": [
    "from sklearn.decomposition import PCA\n",
    "pca_99 = PCA(n_components=0.99)\n",
    "pca_95 = PCA(n_components=0.95)\n",
    "pca_99.fit(train_feature) \n",
    "pca_95.fit(train_feature)\n",
    "train_feature_pca99 = pca_99.transform(train_feature) \n",
    "train_feature_pca95 = pca_95.transform(train_feature)\n",
    "test_feature_pca99 = pca_99.transform(test_feature)\n",
    "test_feature_pca95 = pca_95.transform(test_feature)\n",
    "\n",
    "#Random Forest\n",
    "#rf_pca99 = RandomForestRegressor(10, max_depth=7, n_jobs= -1, random_state = 7)\n",
    "#rf_pca99.fit(train_feature_pca99, train_label)\n",
    "#rf_pca99_pred= rf_pca99.predict(test_feature_pca99)\n",
    "#print(\"RF_PCA99: %f\" % ((test_label-rf_pca99_pred)**2).mean())\n",
    "\n",
    "#rf_pca95 = RandomForestRegressor(10, max_depth=7, n_jobs= -1, random_state = 7)\n",
    "#rf_pca95.fit(train_feature_pca95, train_label)\n",
    "#rf_pca95_pred= rf_pca95.predict(test_feature_pca95)\n",
    "#print(\"RF_PCA95: %f\" % ((test_label-rf_pca95_pred)**2).mean())\n",
    "\n",
    "#Adaboost\n",
    "ada_pca99 = AdaBoostRegressor(DecisionTreeRegressor(max_depth=4),n_estimators=20,loss = 'square', random_state = 7)\n",
    "ada_pca99.fit(train_feature_pca99, train_label)\n",
    "ada_pca99_pred=ada_pca99.predict(test_feature_pca99)\n",
    "print(\"ADA_PCA99: %f\" % ((test_label-ada_pca99_pred)**2).mean())\n",
    "\n",
    "ada_pca95 = AdaBoostRegressor(DecisionTreeRegressor(max_depth=4),n_estimators=20,loss = 'square', random_state = 7)\n",
    "ada_pca95.fit(train_feature_pca95, train_label)\n",
    "ada_pca95_pred=ada_pca95.predict(test_feature_pca95)\n",
    "print(\"ADA_PCA95: %f\" % ((test_label-ada_pca95_pred)**2).mean())\n",
    "\n",
    "\n",
    "#xgboost\n",
    "xgb_pca99_train = xgb.DMatrix(train_feature_pca99, label=train_label)\n",
    "xgb_pca99_test = xgb.DMatrix(test_feature_pca99, label=test_label)\n",
    "evallist = [(xgb_pca99_train, 'train'),(xgb_pca99_test, 'test')]\n",
    "bst_gbtree_pca99 = xgb.train(param_gbtree, xgb_pca99_train, 500, evallist, early_stopping_rounds=10)\n",
    "xgb_pca99_pred = bst_gbtree_pca99.predict(xgb_pca99_test)\n",
    "print(\"XGB_PCA99: %f\" % ((test_label-xgb_pca99_pred)**2).mean())\n",
    "\n",
    "xgb_pca95_train = xgb.DMatrix(train_feature_pca95, label=train_label)\n",
    "xgb_pca95_test = xgb.DMatrix(test_feature_pca95, label=test_label)\n",
    "evallist = [(xgb_pca95_train, 'train'),(xgb_pca95_test, 'test')]\n",
    "bst_gbtree_pca95 = xgb.train(param_gbtree, xgb_pca95_train, 500, evallist, early_stopping_rounds=10)\n",
    "xgb_pca95_pred = bst_gbtree_pca95.predict(xgb_pca95_test)\n",
    "print(\"XGB_PCA95: %f\" % ((test_label-xgb_pca95_pred)**2).mean())"
   ]
  },
  {
   "cell_type": "code",
   "execution_count": 7,
   "metadata": {},
   "outputs": [
    {
     "data": {
      "text/plain": [
       "(1376901, 85)"
      ]
     },
     "execution_count": 7,
     "metadata": {},
     "output_type": "execute_result"
    }
   ],
   "source": [
    "train_feature_pca99.shape"
   ]
  },
  {
   "cell_type": "code",
   "execution_count": 8,
   "metadata": {},
   "outputs": [
    {
     "data": {
      "text/plain": [
       "(1376901, 59)"
      ]
     },
     "execution_count": 8,
     "metadata": {},
     "output_type": "execute_result"
    }
   ],
   "source": [
    "train_feature_pca95.shape"
   ]
  },
  {
   "cell_type": "code",
   "execution_count": 14,
   "metadata": {},
   "outputs": [
    {
     "name": "stdout",
     "output_type": "stream",
     "text": [
      "[138.99949652]\n"
     ]
    }
   ],
   "source": [
    "print(pca_95.explained_variance_)"
   ]
  },
  {
   "cell_type": "code",
   "execution_count": 21,
   "metadata": {},
   "outputs": [
    {
     "data": {
      "text/plain": [
       "array([[-0.0001879 , -0.0001879 , -0.0001879 , ..., -0.00018785,\n",
       "        -0.0001879 , -0.0001879 ],\n",
       "       [-0.0001879 , -0.0001879 , -0.0001879 , ..., -0.00018787,\n",
       "        -0.0001879 , -0.0001879 ],\n",
       "       [-0.0001879 , -0.0001879 , -0.0001879 , ..., -0.00018785,\n",
       "        -0.0001879 , -0.0001879 ],\n",
       "       ...,\n",
       "       [-0.0001879 , -0.0001879 , -0.0001879 , ..., -0.00018785,\n",
       "        -0.0001879 , -0.0001879 ],\n",
       "       [-0.0001879 , -0.0001879 , -0.0001879 , ..., -0.00018788,\n",
       "        -0.0001879 , -0.0001879 ],\n",
       "       [-0.0001879 , -0.0001879 , -0.0001879 , ..., -0.00018786,\n",
       "        -0.0001879 , -0.0001879 ]])"
      ]
     },
     "execution_count": 21,
     "metadata": {},
     "output_type": "execute_result"
    }
   ],
   "source": [
    "train_feature"
   ]
  },
  {
   "cell_type": "code",
   "execution_count": 22,
   "metadata": {},
   "outputs": [],
   "source": [
    "train = pd.read_csv('data/Train.csv')\n",
    "test = pd.read_csv('data/Test.csv')\n",
    "feature_name = train.columns.values[:-1].tolist()\n",
    "train_feature = train[feature_name]\n",
    "train_label = train['label']"
   ]
  },
  {
   "cell_type": "code",
   "execution_count": 28,
   "metadata": {},
   "outputs": [],
   "source": [
    "train_feature_value = train_feature.values\n",
    "train_featureee = ((train_feature - train_feature.mean())/train_feature.std()).values"
   ]
  },
  {
   "cell_type": "code",
   "execution_count": 29,
   "metadata": {},
   "outputs": [
    {
     "data": {
      "text/plain": [
       "array([[-0.88496328,  0.62067379, -0.002088  , ...,  0.9796345 ,\n",
       "        -0.16664853, -0.13855176],\n",
       "       [ 0.93851154, -0.05079964, -0.002088  , ..., -0.54684079,\n",
       "        -0.44532126, -0.41565155],\n",
       "       [ 0.00339625,  0.45401888, -0.002088  , ...,  0.567173  ,\n",
       "        -0.18353779, -0.15766209],\n",
       "       ...,\n",
       "       [ 0.84500001, -0.12091322, -0.002088  , ...,  0.72274993,\n",
       "         0.34002915,  0.37742718],\n",
       "       [ 0.93851154, -0.11011913, -0.002088  , ..., -1.26048582,\n",
       "        -0.71554936, -0.70230652],\n",
       "       [-0.89431443,  0.00343522, -0.002088  , ..., -0.11150177,\n",
       "        -0.13287002, -0.10033109]])"
      ]
     },
     "execution_count": 29,
     "metadata": {},
     "output_type": "execute_result"
    }
   ],
   "source": [
    "train_featureee"
   ]
  },
  {
   "cell_type": "code",
   "execution_count": null,
   "metadata": {},
   "outputs": [],
   "source": []
  }
 ],
 "metadata": {
  "kernelspec": {
   "display_name": "Python 3",
   "language": "python",
   "name": "python3"
  },
  "language_info": {
   "codemirror_mode": {
    "name": "ipython",
    "version": 3
   },
   "file_extension": ".py",
   "mimetype": "text/x-python",
   "name": "python",
   "nbconvert_exporter": "python",
   "pygments_lexer": "ipython3",
   "version": "3.7.3"
  }
 },
 "nbformat": 4,
 "nbformat_minor": 2
}
