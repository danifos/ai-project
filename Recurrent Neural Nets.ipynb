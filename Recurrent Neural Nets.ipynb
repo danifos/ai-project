{
 "cells": [
  {
   "cell_type": "code",
   "execution_count": 1,
   "metadata": {},
   "outputs": [],
   "source": [
    "import torch.optim as optim\n",
    "from models.nn import RecurrentNeuralNetwork\n",
    "from lib.loader import ProcessedCsvDataset, ManyDataset, Many2OneDataset, get_loader\n",
    "from lib.utils import print_step"
   ]
  },
  {
   "cell_type": "code",
   "execution_count": 2,
   "metadata": {},
   "outputs": [],
   "source": [
    "dst = ProcessedCsvDataset()\n",
    "\n",
    "dst.make_val_from_test()\n",
    "train_dataset = Many2OneDataset(dst.train_feature, dst.train_label)\n",
    "test_dataset = Many2OneDataset(dst.test_feature, dst.test_label)\n",
    "val_dataset = Many2OneDataset(dst.val_feature, dst.val_label)\n",
    "\n",
    "train_loader = get_loader(train_dataset, seq_first=True, batch_size=128)\n",
    "test_loader = get_loader(test_dataset, seq_first=True, batch_size=1024, shuffle=False)\n",
    "val_loader = get_loader(val_dataset, seq_first=True, batch_size=1024, shuffle=False)"
   ]
  },
  {
   "cell_type": "code",
   "execution_count": null,
   "metadata": {
    "scrolled": true
   },
   "outputs": [
    {
     "name": "stderr",
     "output_type": "stream",
     "text": [
      "/data/home/niruijie/workspace/ai-project/models/nn.py:142: UserWarning: check_reg() using dim 1 as the batch dim\n",
      "  warnings.warn('check_reg() using dim 1 as the batch dim')\n"
     ]
    },
    {
     "name": "stdout",
     "output_type": "stream",
     "text": [
      "[00 - 00000] 1.19439 0.85882\n",
      "[00 - 01000] 0.52809 0.84351\n",
      "[00 - 02000] 0.81401 0.84219\n",
      "[00 - 03000] 0.92246 0.84166\n",
      "[00 - 04000] 0.75788 0.84158\n",
      "[00 - 05000] 0.76559 0.84131\n",
      "[00 - 06000] 1.02900 0.84137\n",
      "[00 - 07000] 0.68970 0.84117\n",
      "[00 - 08000] 0.83326 0.84123\n",
      "[00 - 09000] 0.40427 0.84137\n",
      "[00 - 10000] 0.83581 0.84144\n",
      "[01 - 00000] 0.53403 0.84135\n",
      "[01 - 01000] 0.73312 0.84110\n",
      "[01 - 02000] 0.92837 0.84107\n",
      "[01 - 03000] 0.69749 0.84118\n",
      "[01 - 04000] 0.71622 0.84138\n",
      "[01 - 05000] 0.54107 0.84161\n",
      "[01 - 06000] 0.74315 0.84147\n",
      "[01 - 07000] 0.94082 0.84119\n",
      "[01 - 08000] 1.16982 0.84152\n",
      "[01 - 09000] 0.92298 0.84163\n",
      "[01 - 10000] 0.80814 0.84124\n",
      "[02 - 00000] 0.72532 0.84143\n",
      "[02 - 01000] 0.78738 0.84139\n",
      "[02 - 02000] 0.63868 0.84119\n",
      "Epoch    24: reducing learning rate of group 0 to 1.0000e-04.\n"
     ]
    }
   ],
   "source": [
    "model = RecurrentNeuralNetwork(dst.num_features, 50)\n",
    "    \n",
    "# optimizer = optim.SGD(model.parameters(), lr=1e-3, momentum=0.9)\n",
    "adam = optim.Adam(model.parameters(), lr=1e-2)\n",
    "\n",
    "model.fit(train_loader, optimizer, callback=print_step,\n",
    "          val_loader=val_loader, scheduler=optim.lr_scheduler.ReduceLROnPlateau(optimizer, verbose=True))"
   ]
  },
  {
   "cell_type": "code",
   "execution_count": 4,
   "metadata": {},
   "outputs": [
    {
     "name": "stdout",
     "output_type": "stream",
     "text": [
      "0.8294012955245592\n",
      "0.8264085198218387\n"
     ]
    }
   ],
   "source": [
    "print(model.validate(test_loader))\n",
    "print(model.validate(train_loader))"
   ]
  },
  {
   "cell_type": "markdown",
   "metadata": {},
   "source": [
    "| No. | architcture | optimizer | test acc | train acc |\n",
    " -----|-------------|-----------|----------|-----------\n",
    " 1 | 50 | sgd 1e-3 | 82.94 | 82.64\n",
    " 2 | 50 | adam 1e-2"
   ]
  }
 ],
 "metadata": {
  "kernelspec": {
   "display_name": "Python 3",
   "language": "python",
   "name": "python3"
  },
  "language_info": {
   "codemirror_mode": {
    "name": "ipython",
    "version": 3
   },
   "file_extension": ".py",
   "mimetype": "text/x-python",
   "name": "python",
   "nbconvert_exporter": "python",
   "pygments_lexer": "ipython3",
   "version": "3.6.9"
  }
 },
 "nbformat": 4,
 "nbformat_minor": 2
}
