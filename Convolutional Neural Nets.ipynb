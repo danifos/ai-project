{
 "cells": [
  {
   "cell_type": "code",
   "execution_count": 1,
   "metadata": {},
   "outputs": [],
   "source": [
    "import torch.optim as optim\n",
    "from models.nn import ConvolutionalNeuralNetwork\n",
    "from lib.loader import ProcessedCsvDataset, ManyDataset, Many2OneDataset, get_loader\n",
    "from lib.utils import print_step"
   ]
  },
  {
   "cell_type": "code",
   "execution_count": 2,
   "metadata": {},
   "outputs": [],
   "source": [
    "dst = ProcessedCsvDataset()\n",
    "\n",
    "dst.make_val_from_test()\n",
    "train_dataset = Many2OneDataset(dst.train_feature, dst.train_label)\n",
    "test_dataset = Many2OneDataset(dst.test_feature, dst.test_label)\n",
    "val_dataset = Many2OneDataset(dst.val_feature, dst.val_label)\n",
    "\n",
    "train_loader = get_loader(train_dataset, batch_size=128)\n",
    "test_loader = get_loader(test_dataset, batch_size=1024, shuffle=False)\n",
    "val_loader = get_loader(val_dataset, batch_size=1024, shuffle=False)"
   ]
  },
  {
   "cell_type": "code",
   "execution_count": 3,
   "metadata": {
    "scrolled": true
   },
   "outputs": [
    {
     "name": "stdout",
     "output_type": "stream",
     "text": [
      "[00 - 00000] 0.59473 0.87437\n",
      "[00 - 01000] 0.96203 0.83767\n",
      "[00 - 02000] 0.72268 0.85444\n",
      "[00 - 03000] 0.85640 0.83759\n",
      "[00 - 04000] 0.79676 0.86035\n",
      "[00 - 05000] 0.70523 0.85494\n",
      "[00 - 06000] 1.40801 0.84833\n",
      "[00 - 07000] 0.77422 0.84820\n",
      "[00 - 08000] 0.52506 0.86209\n",
      "[00 - 09000] 0.88063 0.85400\n",
      "[00 - 10000] 0.73799 0.85021\n"
     ]
    }
   ],
   "source": [
    "model = ConvolutionalNeuralNetwork(dst.num_features, [200, 400], 5)\n",
    "    \n",
    "# optimizer = optim.SGD(model.parameters(), lr=1e-5, momentum=0.9, weight_decay=5e-5)\n",
    "optimizer = optim.Adam(model.parameters(), lr=1e-3, weight_decay=5e-5)\n",
    "\n",
    "model.fit(train_loader, optimizer, callback=print_step,\n",
    "          val_loader=val_loader, scheduler=optim.lr_scheduler.ReduceLROnPlateau(optimizer, verbose=True))"
   ]
  },
  {
   "cell_type": "code",
   "execution_count": 4,
   "metadata": {},
   "outputs": [
    {
     "name": "stdout",
     "output_type": "stream",
     "text": [
      "0.8608730038230479\n",
      "1.0087436901678075\n"
     ]
    }
   ],
   "source": [
    "print(model.validate(test_loader))\n",
    "print(model.validate(train_loader))"
   ]
  },
  {
   "cell_type": "markdown",
   "metadata": {},
   "source": [
    "| No. | architcture | optimizer | test acc | train acc |\n",
    " -----|-------------|-----------|----------|-----------\n",
    " 1 | 100-50, 3 | sgd 1e-5 | 82.84 | 83.50\n",
    " 2 | 200-400, 5 | sgd 1e-5 | 82.06 | 81.75\n",
    " 3 | 200-400, 5 | adam 1e-4 | 81.19 | 80.86\n",
    " 4 | 200-400, 5 | adam 1e-3 | 81.39 | 81.15"
   ]
  }
 ],
 "metadata": {
  "kernelspec": {
   "display_name": "Python 3",
   "language": "python",
   "name": "python3"
  },
  "language_info": {
   "codemirror_mode": {
    "name": "ipython",
    "version": 3
   },
   "file_extension": ".py",
   "mimetype": "text/x-python",
   "name": "python",
   "nbconvert_exporter": "python",
   "pygments_lexer": "ipython3",
   "version": "3.6.9"
  }
 },
 "nbformat": 4,
 "nbformat_minor": 2
}
